{
 "cells": [
  {
   "cell_type": "code",
   "execution_count": 3,
   "metadata": {},
   "outputs": [],
   "source": [
    "from pyspark.sql import SparkSession\n",
    "#from pyspark.sql.functions import *\n",
    "from pyspark.sql import functions as F\n",
    "#from googletrans import Translator\n",
    "from pyspark.sql.window import Window\n",
    "from pyspark.sql.types import TimestampType\n",
    "from pyspark.sql.types import DoubleType\n",
    "import numpy as np\n",
    "import matplotlib.pyplot as plt\n",
    "import matplotlib.mlab as mlab\n",
    "#from mpl_toolkits.basemap import Basemap\n",
    "import time\n",
    "import re\n",
    "\n",
    "spark = SparkSession \\\n",
    "    .builder \\\n",
    "    .appName(\"Large scale human mobility data analysis through social media\") \\\n",
    "    .config(\"spark.sql.broadcastTimeout\", \"36000\") \\\n",
    "    .getOrCreate()\n",
    "instagram_df = spark.read.load(\"/data/instagramdata/instagram_df.parquet\", format=\"parquet\")\n",
    "twitter_df = spark.read.load(\"/data/twitterdata/UserTweetInEurope_df.parquet\", format=\"parquet\")\n",
    "instagram_df.createOrReplaceTempView(\"instagram\")\n",
    "twitter_df.createOrReplaceTempView(\"twitter\")\n",
    "twitter_ego = twitter_df.filter(twitter_df[\"text\"].like(\"%@%\"))\n",
    "## Excluding speed should come before restrict country "
   ]
  },
  {
   "cell_type": "code",
   "execution_count": 4,
   "metadata": {},
   "outputs": [],
   "source": [
    "#extract all @mention from text and construct reciprocated network\n",
    "def filter_all(x):\n",
    "    result = re.findall('(\\@)(\\s|)+(\\w+)(\\\\b)',x)\n",
    "    return (','.join([i[2] for i in result]))\n",
    "filter_all_udf = F.udf(filter_all)\n",
    "\n",
    "twitter_ego = twitter_ego.withColumn('mention',filter_all_udf(twitter_ego['text']).alias('mention'))\n",
    "twitter_ego.createOrReplaceTempView(\"twitter_ego\")\n",
    "twitter_ego1 = twitter_ego.select(F.explode(F.split(F.col(\"mention\"),\",\")).alias(\"mention\"),twitter_ego[\"user_name\"],twitter_ego[\"media_id\"])\n",
    "twitter_ego1.createOrReplaceTempView(\"twitter_ego1\")\n",
    "twitter_ego2 = spark.sql(\"select user_name as source,mention as target,count(media_id) as weight from twitter_ego1 group by user_name,mention\")\n",
    "twitter_ego2.createOrReplaceTempView(\"twitter_ego2\")\n",
    "twitter_ego3 = spark.sql(\"select a.source,a.target as target1,b.target as target2,a.weight as weight1,b.weight as weight2 from twitter_ego2 a join twitter_ego2 b on a.target = b.source where a.source = b.target and a.source != a.target\")\n",
    "twitter_ego3 = twitter_ego3.withColumn('weight',F.least(twitter_ego3['weight1'], twitter_ego3['weight2']).alias(\"weight\"))\n",
    "twitter_ego3 = twitter_ego3.select(twitter_ego3['source'],twitter_ego3[\"target1\"],twitter_ego3['weight'])\n",
    "twitter_ego3.createOrReplaceTempView(\"twitter_ego3\")\n",
    "twitter_ego4 = spark.sql(\"select * from twitter where user_name in (select distinct source from twitter_ego3)\")\n",
    "twitter_ego4.createOrReplaceTempView(\"twitter_ego4\")"
   ]
  },
  {
   "cell_type": "code",
   "execution_count": 8,
   "metadata": {
    "scrolled": true
   },
   "outputs": [],
   "source": [
    "user_location = twitter_ego4.withColumn('user_location_with_geo',F.regexp_extract('user_location','(-?\\\\d+.\\\\d{3,}),\\\\s*(-?\\\\d+.\\\\d{3,})',0).alias('user_location_with_geo'))\n",
    "#user_location = user_location.filter(user_location['user_location_with_geo'] != '')\n",
    "user_location.createOrReplaceTempView(\"user_location\")\n",
    "user_location= spark.sql(\"select distinct user_name as source,user_location from user_location\")\n",
    "#user_location = user_location.filter(user_location['user_location'].isNotNull())\n",
    "user_location_rdd = user_location.rdd.map(lambda row :[row[0],row[1]])\n",
    "user_location_list = user_location_rdd.collect()"
   ]
  },
  {
   "cell_type": "code",
   "execution_count": 9,
   "metadata": {},
   "outputs": [],
   "source": [
    "import geocoder \n",
    "def geocode(list):\n",
    "    for i in list:\n",
    "        if i[1]==None:\n",
    "            i[1]=None\n",
    "        else:\n",
    "            g=geocoder.google(i[1])\n",
    "            if g.city == None:\n",
    "                i[1]=None\n",
    "            else:\n",
    "                g.city_country='{},{}'.format(g.city,g.country)\n",
    "                #g.city_country=g.city+g.country\n",
    "                i[1]=[g.latlng,g.city_country]\n",
    "                #time.sleep(10)\n",
    "    print(list)\n",
    "def reverse_geocode(list):\n",
    "    for i in list:\n",
    "        g = geocoder.google(i[1], method='reverse')\n",
    "        g.city_country='{},{}'.format(g.city,g.country)\n",
    "        i[1]=[i[1],g.city_country]\n",
    "    print(list)"
   ]
  },
  {
   "cell_type": "code",
   "execution_count": null,
   "metadata": {},
   "outputs": [],
   "source": [
    "geocode(user_location_list)"
   ]
  }
 ],
 "metadata": {
  "celltoolbar": "Raw Cell Format",
  "kernelspec": {
   "display_name": "Python 3",
   "language": "python",
   "name": "python3"
  },
  "language_info": {
   "codemirror_mode": {
    "name": "ipython",
    "version": 3
   },
   "file_extension": ".py",
   "mimetype": "text/x-python",
   "name": "python",
   "nbconvert_exporter": "python",
   "pygments_lexer": "ipython3",
   "version": "3.5.2"
  }
 },
 "nbformat": 4,
 "nbformat_minor": 2
}
