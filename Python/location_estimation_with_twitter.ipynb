{
 "cells": [
  {
   "cell_type": "code",
   "execution_count": 1,
   "metadata": {},
   "outputs": [],
   "source": [
    "from pyspark.sql import SparkSession\n",
    "#from pyspark.sql.functions import *\n",
    "from pyspark.sql import functions as F\n",
    "#from googletrans import Translator\n",
    "from pyspark.sql.window import Window\n",
    "from pyspark.sql.types import DoubleType\n",
    "import numpy as np\n",
    "import matplotlib.pyplot as plt\n",
    "import matplotlib.mlab as mlab\n",
    "#from mpl_toolkits.basemap import Basemap\n",
    "import time\n",
    "import re\n",
    "\n",
    "spark = SparkSession \\\n",
    "    .builder \\\n",
    "    .appName(\"Large scale human mobility data analysis through social media\") \\\n",
    "    .config(\"spark.sql.broadcastTimeout\", \"36000\") \\\n",
    "    .getOrCreate()\n",
    "\n",
    "twitter_df = spark.read.load(\"/data/twitterdata/UserTweetInEurope_df.parquet\", format=\"parquet\")\n",
    "twitter_ego = twitter_df.filter(twitter_df[\"text\"].like(\"%@%\"))\n",
    "twitter_df.createOrReplaceTempView(\"twitter\")"
   ]
  },
  {
   "cell_type": "code",
   "execution_count": 342,
   "metadata": {},
   "outputs": [],
   "source": [
    "twitter_geotagged = twitter_df.filter(twitter_df['lat'].isNotNull())"
   ]
  },
  {
   "cell_type": "code",
   "execution_count": 346,
   "metadata": {},
   "outputs": [
    {
     "data": {
      "text/plain": [
       "0.17138763018040107"
      ]
     },
     "execution_count": 346,
     "metadata": {},
     "output_type": "execute_result"
    }
   ],
   "source": [
    "4408531/25722574"
   ]
  },
  {
   "cell_type": "code",
   "execution_count": 2,
   "metadata": {},
   "outputs": [],
   "source": [
    "#extract all @mention from text and construct reciprocated network\n",
    "def filter_all(x):\n",
    "    result = re.findall('(\\@)(\\s|)+(\\w+)(\\\\b)',x)\n",
    "    return (','.join([i[2] for i in result]))\n",
    "filter_all_udf = F.udf(filter_all)\n",
    "\n",
    "twitter_ego = twitter_ego.withColumn('mention',filter_all_udf(twitter_ego['text']).alias('mention'))\n",
    "twitter_ego.createOrReplaceTempView(\"twitter_ego\")\n",
    "\n",
    "twitter_ego1 = twitter_ego.select(F.explode(F.split(F.col(\"mention\"),\",\")).alias(\"mention\"),twitter_ego[\"user_name\"],twitter_ego[\"media_id\"])\n",
    "twitter_ego1.createOrReplaceTempView(\"twitter_ego1\")\n",
    "\n",
    "twitter_ego2 = spark.sql(\"select user_name as source,mention as target,count(media_id) as weight from twitter_ego1 group by user_name,mention\")\n",
    "twitter_ego2.createOrReplaceTempView(\"twitter_ego2\")\n",
    "twitter_ego3 = spark.sql(\"select a.source,a.target as target1,b.target as target2,a.weight as weight1,b.weight as weight2 from twitter_ego2 a join twitter_ego2 b on a.target = b.source where a.source = b.target and a.source != a.target\")\n",
    "twitter_ego3 = twitter_ego3.withColumn('weight',F.least(twitter_ego3['weight1'], twitter_ego3['weight2']).alias(\"weight\"))\n",
    "\n",
    "twitter_ego3 = twitter_ego3.select(twitter_ego3['source'],twitter_ego3[\"target1\"],twitter_ego3['weight'])\n",
    "twitter_ego3.createOrReplaceTempView(\"twitter_ego3\")\n",
    "\n",
    "twitter_ego4 = spark.sql(\"select * from twitter where user_name in (select distinct source from twitter_ego3)\")\n",
    "twitter_ego4.createOrReplaceTempView(\"twitter_ego4\")"
   ]
  },
  {
   "cell_type": "code",
   "execution_count": 2,
   "metadata": {},
   "outputs": [],
   "source": [
    "import geocoder \n",
    "def geocode(list):\n",
    "    for i in list:\n",
    "        if i[1]==None:\n",
    "            i[1]=None\n",
    "        else:\n",
    "            g=geocoder.google(i[1])\n",
    "            if g.city == None:\n",
    "                i[1]=None\n",
    "            else:\n",
    "                g.city_country='{},{}'.format(g.city,g.country)\n",
    "                #g.city_country=g.city+g.country\n",
    "                i[1]=[g.latlng,g.city_country]\n",
    "                #time.sleep(10)\n",
    "    print(list)\n",
    "def reverse_geocode(list):\n",
    "    for i in list:\n",
    "        g = geocoder.google(i[1], method='reverse')\n",
    "        g.city_country='{},{}'.format(g.city,g.country)\n",
    "        i[1]=[i[1],g.city_country]\n",
    "    print(list)"
   ]
  },
  {
   "cell_type": "code",
   "execution_count": 3,
   "metadata": {},
   "outputs": [],
   "source": [
    "##ground_truth need to be revised, we should exclude user outside of Europe\n",
    "##ground_truth1 from self-posted user profile locations\n",
    "ground_truth1 = spark.read.csv('user_location.csv',header=True)\n",
    "ground_truth1 = ground_truth1.dropDuplicates()\n",
    "ground_truth1 = ground_truth1.withColumn('user_location',F.concat_ws(',', ground_truth1['user_city'], ground_truth1['user_country']).alias('user_location'))\n",
    "ground_truth1 = ground_truth1.withColumn('lat',ground_truth1['lat'].cast(DoubleType()))\n",
    "ground_truth1 = ground_truth1.withColumn('lon',ground_truth1['lon'].cast(DoubleType()))\n",
    "ground_truth1 = ground_truth1.select(ground_truth1['user_name'],ground_truth1['lat'],ground_truth1['lon'],ground_truth1['user_location'])\n",
    "######ground_truth1.filter(ground_truth1['user_country'].isin(['BE','BG','CZ','DK','DE','EE','IE','EL','ES','FR','HR','IT','CY','LV','LT','LU','HU','MT','NL','AT','PL','PT','RO','SI','SK','FI','SE','UK','IS','LI','NO','CH','ME','MK','AL','RS','TR','XK','BA'])).count()"
   ]
  },
  {
   "cell_type": "code",
   "execution_count": 4,
   "metadata": {},
   "outputs": [
    {
     "name": "stdout",
     "output_type": "stream",
     "text": [
      "+-------------------------+\n",
      "|count(DISTINCT user_name)|\n",
      "+-------------------------+\n",
      "|                    10673|\n",
      "+-------------------------+\n",
      "\n"
     ]
    }
   ],
   "source": [
    "##ground_truth2 from more than 3 geo-tagged tweets\n",
    "geo_tagged = twitter_ego4.filter(twitter_ego4['lat'].isNotNull())\n",
    "geo_tagged.createOrReplaceTempView(\"geo_tagged\")\n",
    "#restrict count to filter out skew data to prevent spark unefficency\n",
    "geo_tagged = spark.sql('select user_name,media_id,followers_count,lat,lon,place_name,country_code from geo_tagged where place_type = \"city\" and user_id in (select user_id from geo_tagged group by user_id having count(distinct media_id)>= 3 and count(distinct media_id)< 500)')\n",
    "geo_tagged = geo_tagged.withColumn('place_location',F.concat_ws(',', geo_tagged['place_name'], geo_tagged['country_code']).alias('place_location'))\n",
    "geo_tagged = geo_tagged.select(geo_tagged['user_name'],geo_tagged['media_id'],geo_tagged['followers_count'],geo_tagged['lat'],geo_tagged['lon'],geo_tagged['place_location'])\n",
    "geo_tagged.agg(F.countDistinct(geo_tagged['user_name'])).show()"
   ]
  },
  {
   "cell_type": "code",
   "execution_count": 9,
   "metadata": {},
   "outputs": [],
   "source": [
    "geo_tagged_rdd = geo_tagged.rdd.map(lambda row : (row[0],row[1],row[2],row[3],row[4],row[5],None,None,None)).keyBy(lambda p : p[0]).groupByKey()\n",
    "geo_tagged_rdd = geo_tagged_rdd.map(lambda x : (x[0], list(x[1])))\n",
    "##the calculation for the dispersion of geo_tagged tweets, weight need to be removed\n",
    "##Actually, it does not matter when we use followers_count to replace the weight\n",
    "#since it is the same for all the points in Adjacency list.\n",
    "geo_tagged_rdd = geo_tagged_rdd.map(lambda x : (x[0],dispersion(x[1])))\n",
    "geo_tagged_rdd = geo_tagged_rdd.map(lambda x : (x[0],x[1][0],x[1][1],x[1][2],x[1][3]))\n",
    "geo_tagged_rdd = geo_tagged_rdd.filter(lambda x : x[3]!= None)\n",
    "\n",
    "#calculate the activity radius of geo_tagged users\n",
    "geo_tagged_median = geo_tagged_rdd.map(lambda x : x[4]).collect() \n",
    "\n",
    "geo_tagged_df = geo_tagged_rdd.filter(lambda x : x[4]<30.0).toDF()\n",
    "ground_truth2 = geo_tagged_df.select(geo_tagged_df['_1'].alias('user_name'),geo_tagged_df['_2'].alias('lat'),geo_tagged_df['_3'].alias('lon'),geo_tagged_df['_4'].alias('user_location'))"
   ]
  },
  {
   "cell_type": "code",
   "execution_count": 14,
   "metadata": {},
   "outputs": [
    {
     "data": {
      "image/png": "[encoded data removed]",
      "text/plain": [
       "<matplotlib.figure.Figure at 0x7fc62c2af0f0>"
      ]
     },
     "metadata": {},
     "output_type": "display_data"
    }
   ],
   "source": [
    "plt.rcParams[\"figure.figsize\"] = (10, 6)\n",
    "x = np.sort(geo_tagged_median)\n",
    "y = np.arange(1,len(x)+1)/len(x)\n",
    "#histogram_cumulative\n",
    "#plt.hist(geo_tagged_median,normed=True, cumulative=True, label='CDF', histtype='step', alpha=0.8, color='C0')\n",
    "plt.plot(x,y,marker='.',linestyle='none')\n",
    "plt.xlabel('median distance from home(log)')\n",
    "plt.ylabel('Empirical CDF of activity radii')\n",
    "plt.xscale('log')\n",
    "plt.legend(['Twitter'], loc='lower right')\n",
    "plt.margins(0.02)\n",
    "plt.savefig('../Figures/Empirical_CDF_of_activity_radii1.eps', format='eps',bbox_inches='tight',transparent=True)"
   ]
  },
  {
   "cell_type": "code",
   "execution_count": 7,
   "metadata": {},
   "outputs": [],
   "source": [
    "#calculate the median distance to friends of geo_tagged users\n",
    "#filter network with only ground_truth2 users, 'inner' join but not 'left' join\n",
    "networkWithLocations_ground= twitter_ego3.join(ground_truth2,twitter_ego3['source'] == ground_truth2['user_name']).drop(ground_truth2[\"user_name\"])\n",
    "networkWithLocations_ground = networkWithLocations_ground.select(networkWithLocations_ground['source'],networkWithLocations_ground['target1'].alias('target'),networkWithLocations_ground['weight'],networkWithLocations_ground['user_location'].alias('source_location'),networkWithLocations_ground['lat'].alias('source_lat'),networkWithLocations_ground['lon'].alias('source_lon'))\n",
    "networkWithLocations_ground = networkWithLocations_ground.join(ground_truth2,networkWithLocations_ground['target'] == ground_truth2['user_name']).drop(ground_truth2[\"user_name\"])\n",
    "networkWithLocations_ground = networkWithLocations_ground.select(networkWithLocations_ground['source'],networkWithLocations_ground['target'],networkWithLocations_ground['weight'],networkWithLocations_ground['lat'].alias('target_lat'),networkWithLocations_ground['lon'].alias('target_lon'),networkWithLocations_ground['user_location'].alias('target_location'),networkWithLocations_ground['source_lat'],networkWithLocations_ground['source_lon'],networkWithLocations_ground['source_location'])\n",
    "adjListWithLocations_ground = networkWithLocations_ground.rdd.map(lambda row : (row[0],row[1],row[2],row[3],row[4],row[5],row[6],row[7],row[8])).keyBy(lambda p : p[0]).groupByKey()\n",
    "user_location_list_ground = adjListWithLocations_ground.map(lambda x : (x[0], list(x[1])))\n",
    "user_location_list_ground  = user_location_list_ground.map(lambda x : (x[0],dispersion(x[1])))\n",
    "user_location_list_ground  = user_location_list_ground.map(lambda x : (x[0],x[1][0],x[1][1],x[1][2],x[1][3]))\n",
    "user_median_distance_to_friend = user_location_list_ground.map(lambda x:x[4]).collect()"
   ]
  },
  {
   "cell_type": "code",
   "execution_count": 15,
   "metadata": {},
   "outputs": [
    {
     "data": {
      "image/png": "[encoded data removed]",
      "text/plain": [
       "<matplotlib.figure.Figure at 0x7fc5f91f03c8>"
      ]
     },
     "metadata": {},
     "output_type": "display_data"
    }
   ],
   "source": [
    "plt.rcParams[\"figure.figsize\"] = (10, 6)\n",
    "x = np.sort(user_median_distance_to_friend)\n",
    "y = np.arange(1,len(x)+1)/len(x)\n",
    "#histogram_cumulative\n",
    "#plt.hist(geo_tagged_median,normed=True, cumulative=True, label='CDF', histtype='step', alpha=0.8, color='C0')\n",
    "plt.plot(x,y,marker='.',linestyle='none')\n",
    "plt.xlabel('user median distance to friend(log)')\n",
    "plt.ylabel('Empirical CDF of median distance to friend')\n",
    "plt.xscale('log')\n",
    "plt.legend(['Twitter'], loc='lower right')\n",
    "plt.margins(0.02)\n",
    "plt.savefig('../Figures/User_median_distance_to_friend1.eps', format='eps',bbox_inches='tight',transparent=True)"
   ]
  },
  {
   "cell_type": "code",
   "execution_count": 11,
   "metadata": {},
   "outputs": [],
   "source": [
    "#when user is in both ground truth1 and ground truth2, then choose the result of ground truth2\n",
    "ground_truth1.createOrReplaceTempView(\"ground_truth1\")\n",
    "ground_truth2.createOrReplaceTempView(\"ground_truth2\")\n",
    "ground_truth1 = spark.sql('select * from ground_truth1 where user_name not in (select user_name from ground_truth2)')\n",
    "ground_truth = ground_truth1.unionAll(ground_truth2)\n",
    "#ground_truth.count()"
   ]
  },
  {
   "cell_type": "code",
   "execution_count": 227,
   "metadata": {},
   "outputs": [
    {
     "name": "stdout",
     "output_type": "stream",
     "text": [
      "74260\n",
      "75102\n",
      "75177\n",
      "75328\n",
      "75326\n",
      "74312\n",
      "75081\n",
      "75218\n",
      "75323\n",
      "75349\n",
      "74278\n",
      "75106\n",
      "75221\n",
      "75335\n",
      "75347\n",
      "74265\n",
      "75082\n",
      "75184\n",
      "75349\n",
      "75311\n",
      "74292\n",
      "75073\n",
      "75197\n",
      "75329\n",
      "75330\n",
      "74320\n",
      "75089\n",
      "75254\n",
      "75332\n",
      "75338\n",
      "74296\n",
      "75104\n",
      "75150\n",
      "75327\n",
      "75269\n",
      "74283\n",
      "75111\n",
      "75197\n",
      "75334\n",
      "75327\n",
      "74308\n",
      "75068\n",
      "75213\n",
      "75291\n",
      "75311\n",
      "74291\n",
      "75086\n",
      "75212\n",
      "75308\n",
      "75326\n"
     ]
    }
   ],
   "source": [
    "coverage_list= []\n",
    "coverage_percentage_list = []\n",
    "error_median_list = []\n",
    "error_mean_list = []\n",
    "for j in range(1,11):    \n",
    "    ground_truth_sample = ground_truth2.sample(False, 0.1)\n",
    "    ground_truth_sample.createOrReplaceTempView(\"ground_truth_sample\")\n",
    "    ground_truth.createOrReplaceTempView(\"ground_truth\")\n",
    "    ground_truth_final = spark.sql(\"select * from ground_truth where user_name not in (select user_name from ground_truth_sample)\")\n",
    "    #ground_truth_sample.count()\n",
    "    for i in range(1,6):\n",
    "        networkWithLocations = twitter_ego3.join(ground_truth_final,twitter_ego3['target1'] == ground_truth_final['user_name'],'left').drop(ground_truth_final[\"user_name\"])\n",
    "        networkWithLocations = networkWithLocations.select(networkWithLocations['source'],networkWithLocations['target1'].alias('target'),networkWithLocations['weight'],networkWithLocations['user_location'].alias('target_location'),networkWithLocations['lat'].alias('target_lat'),networkWithLocations['lon'].alias('target_lon'))\n",
    "        networkWithLocations = networkWithLocations.join(ground_truth_final,networkWithLocations['source'] == ground_truth_final['user_name'],'left').drop(ground_truth_final[\"user_name\"])\n",
    "        networkWithLocations = networkWithLocations.select(networkWithLocations['source'],networkWithLocations['target'],networkWithLocations['weight'],networkWithLocations['target_lat'],networkWithLocations['target_lon'],networkWithLocations['target_location'],networkWithLocations['lat'].alias('source_lat'),networkWithLocations['lon'].alias('source_lon'),networkWithLocations['user_location'].alias('source_location'))\n",
    "        adjListWithLocations = networkWithLocations.rdd.map(lambda row : (row[0],row[1],row[2],row[3],row[4],row[5],row[6],row[7],row[8])).keyBy(lambda p : p[0]).groupByKey()\n",
    "    \n",
    "        user_location_list = adjListWithLocations.map(lambda x : (x[0], list(x[1])))\n",
    "\n",
    "        user_location_list = user_location_list.map(lambda x : (x[0],dispersion(x[1])))\n",
    "        user_location_list = user_location_list.map(lambda x : (x[0],x[1][0],x[1][1],x[1][2],x[1][3]))\n",
    "        #user_location_list = user_location_list.filter(lambda x : x[3]!= None).toDF()\n",
    "        user_location_list = user_location_list.filter(lambda x : x[4]<100.0).toDF()\n",
    "        #location_df = user_location_list.toDF()\n",
    "        ground_truth_final= user_location_list.select(user_location_list['_1'].alias('user_name'),user_location_list['_2'].alias('lat'),user_location_list['_3'].alias('lon'),user_location_list['_4'].alias('user_location'))\n",
    "        #print(i)\n",
    "        print(ground_truth_final.count())\n",
    "    ########\n",
    "    #leave-many-out cross-validation\n",
    "    ground_truth_sample = ground_truth_sample.select(ground_truth_sample['user_name'],ground_truth_sample['lat'].alias('lat_sample'),ground_truth_sample['lon'].alias('lon_sample'),ground_truth_sample['lon'].alias('user_location_sample'))\n",
    "    sample = ground_truth_sample.join(ground_truth_final,ground_truth_sample['user_name'] == ground_truth_final['user_name'],'left').drop(ground_truth_final['user_name'])\n",
    "    sample = sample.filter(sample['user_location'].isNotNull())\n",
    "    coverage_list.append(sample.count())\n",
    "    coverage_percentage_list.append(sample.count()/ground_truth_sample.count())\n",
    "    sample = sample.withColumn('error',dist(sample['lon_sample'],sample['lat_sample'],sample['lon'],sample['lat']))\n",
    "    error = sample.select('error').rdd.map(lambda x : x[0]).collect()\n",
    "    error_median = np.median(error)\n",
    "    error_mean = np.mean(error)\n",
    "    error_median_list.append(error_median)\n",
    "    error_mean_list.append(error_mean)"
   ]
  },
  {
   "cell_type": "code",
   "execution_count": 5,
   "metadata": {},
   "outputs": [],
   "source": [
    "import math\n",
    "def distance(lon1, lat1,lon2,lat2):\n",
    "    radius = 6371 # km\n",
    "    dlat = math.radians(lat2-lat1)\n",
    "    dlon = math.radians(lon2-lon1)\n",
    "    a = math.sin(dlat/2) * math.sin(dlat/2) + math.cos(math.radians(lat1)) \\\n",
    "        * math.cos(math.radians(lat2)) * math.sin(dlon/2) * math.sin(dlon/2)\n",
    "    c = 2 * math.atan2(math.sqrt(a), math.sqrt(1-a))\n",
    "    d = radius * c\n",
    "    return d\n",
    "\n",
    "def dist(lon1, lat1, lon2, lat2):\n",
    "    radius = 6371  # km\n",
    "    dlat = F.radians(lat2 - lat1)\n",
    "    dlon = F.radians(lon2 - lon1)\n",
    "    a = F.sin(dlat / 2) * F.sin(dlat / 2) + F.cos(F.radians(lat1)) \\\n",
    "        * F.cos(F.radians(lat2)) * F.sin(dlon / 2) * F.sin(dlon / 2)\n",
    "    c = 2 * F.atan2(F.sqrt(a), F.sqrt(1 - a))\n",
    "    d = radius * c\n",
    "    return d\n",
    "\n",
    "def l1median(list):\n",
    "    min = float(\"inf\")\n",
    "    user_location = None\n",
    "    user_lat = None\n",
    "    user_lon = None\n",
    "    for i in list:\n",
    "        #i[8] is source_location,ground_truth\n",
    "        if i[8]!= None:\n",
    "            user_location = i[8]\n",
    "            user_lat = i[6]\n",
    "            user_lon = i[7]\n",
    "        #i[3] is target_lat,i[4] is target_lon\n",
    "        elif (i[3]!=None)&(i[4]!=None):\n",
    "            list1 = list[:]\n",
    "            list1.remove(i)\n",
    "            dist = 0.0\n",
    "            for j in list1:\n",
    "                #j[3] is target_lat\n",
    "                if j[3]!= None:\n",
    "                    #j[2] is weight,j[4] is target_lon and j[3] is source_lon\n",
    "                    #d = distance(j[4],j[3],i[4],i[3])\n",
    "                    d = j[2]*distance(j[4],j[3],i[4],i[3])\n",
    "                    dist = d + dist\n",
    "            if dist < min:\n",
    "                min = dist\n",
    "                user_location = i[5]\n",
    "                user_lat = i[3]\n",
    "                user_lon = i[4]\n",
    "        else:\n",
    "            continue\n",
    "    return((i[0],user_lat,user_lon,user_location))\n",
    "\n",
    "def dispersion(list):\n",
    "    home = l1median(list)\n",
    "    user_lat = home[1]\n",
    "    user_lon = home[2]\n",
    "    user_location = home[3]\n",
    "    absolute_deviation = []\n",
    "    median = 0.0\n",
    "    if (user_lat != None)&(user_lon!=None):\n",
    "        #i[8] is source_location,ground_truth\n",
    "        if list[0][8]== user_location:\n",
    "            for j in list:\n",
    "                if j[3]!= None:\n",
    "                    d = distance(j[4],j[3],user_lon,user_lat)\n",
    "                    absolute_deviation.append(d)\n",
    "            if len(absolute_deviation)!=0:\n",
    "                median = np.median(absolute_deviation)\n",
    "            else:\n",
    "                median = 0.0\n",
    "        else:\n",
    "            for i in list:\n",
    "                #i[5] is target_location\n",
    "                if (i[3] == user_lat) & (i[4] == user_lon):\n",
    "                    list1 = list[:]\n",
    "                    list1.remove(i)\n",
    "                    for j in list1:\n",
    "                        if j[3]!= None:\n",
    "                            d = distance(j[4],j[3],i[4],i[3])\n",
    "                            absolute_deviation.append(d)\n",
    "                    if len(absolute_deviation)!=0:\n",
    "                        median = np.median(absolute_deviation)\n",
    "                    else:\n",
    "                        median = 0.0\n",
    "                else:\n",
    "                    continue\n",
    "    return(user_lat,user_lon,user_location,float(median))"
   ]
  },
  {
   "cell_type": "code",
   "execution_count": 18,
   "metadata": {},
   "outputs": [
    {
     "name": "stdout",
     "output_type": "stream",
     "text": [
      "t = 3.22159056915\n",
      "p = 0.191607104911\n"
     ]
    }
   ],
   "source": [
    "import numpy as np\n",
    "from scipy import stats\n",
    "\n",
    "\n",
    "a = np.asarray(error_median_list1)\n",
    "b = np.asarray(error_median_list1)\n",
    "\n",
    "#Paired sample T-test\n",
    "#Calculate the T-test on TWO RELATED samples of scores, a and b.\n",
    "t,p = stats.ttest_rel(a,b)\n",
    "print(\"t = \" + str(t))\n",
    "print(\"p = \" + str(p))"
   ]
  },
  {
   "cell_type": "code",
   "execution_count": 249,
   "metadata": {},
   "outputs": [
    {
     "name": "stdout",
     "output_type": "stream",
     "text": [
      "t = 0.727326632353\n",
      "p = 0.485514506304\n"
     ]
    }
   ],
   "source": [
    "import numpy as np\n",
    "from scipy import stats\n",
    "\n",
    "a = [8.0967557805918613,\n",
    " 8.275997135357489,\n",
    " 7.8061025797261703,\n",
    " 9.3117782856156328,\n",
    " 7.3946106686716337,\n",
    " 13.055172685735103,\n",
    " 9.3063331261043167,\n",
    " 8.0967557805918613,\n",
    " 8.3194758270834814,\n",
    " 10.839153443304374]\n",
    "b = [8.5933784708059999,\n",
    " 6.0943795008453998,\n",
    " 7.9597584399428065,\n",
    " 10.839153443304374,\n",
    " 8.1383529608792688,\n",
    " 12.598511525170732,\n",
    " 7.6112657884080805,\n",
    " 8.0240204067354206,\n",
    " 8.9559577611689818,\n",
    " 8.7141425134524655]\n",
    "a = np.asarray(a)\n",
    "b = np.asarray(b)\n",
    "\n",
    "#Paired sample T-test\n",
    "#Calculate the T-test on TWO RELATED samples of scores, a and b.\n",
    "t,p = stats.ttest_rel(a,b)\n",
    "print(\"t = \" + str(t))\n",
    "print(\"p = \" + str(p))"
   ]
  },
  {
   "cell_type": "code",
   "execution_count": 265,
   "metadata": {},
   "outputs": [
    {
     "data": {
      "image/png": "[encoded data removed]",
      "text/plain": [
       "<matplotlib.figure.Figure at 0x7f4792a55cc0>"
      ]
     },
     "metadata": {},
     "output_type": "display_data"
    }
   ],
   "source": [
    "plt.rcParams[\"figure.figsize\"] = (8, 5)\n",
    "x = [1,2,3,4,5]\n",
    "z1 = round((74260+74312+74278+74265+74292+74320+74296+74283+74308+74291)/10)\n",
    "z2 = round((75102+75081+75106+75082+75073+75089+75104+75111+75068+75086)/10)\n",
    "z3 = round((75177+75218+75221+75184+75197+75254+75150+75197+75213+75212)/10)\n",
    "z4 = round((75328+75323+75335+75349+75329+75332+75327+75334+75291+75308)/10)\n",
    "z5 = round((75326+75349+75347+75311+75330+75338+75269+75327+75311+75326)/10)\n",
    "\n",
    "z6 = round((74486+74519+74519+74518+74528+74530+74527+74492+74482+74543)/10)\n",
    "z7 = round((75148+75155+75132+75208+75123+75174+75180+75161+75181+75135)/10)\n",
    "z8 = round((75265+75290+75291+75286+75301+75296+75279+75260+75253+75277)/10)\n",
    "z9 = round((75369+75385+75373+75388+75366+75395+75373+75408+75415+75398)/10)\n",
    "z10 = round((75360+75361+75392+75423+75390+75397+75405+75399+75385+75403)/10)\n",
    "y1 = [z1,z2,z3,z4,z5]\n",
    "y2 = [z6,z7,z8,z9,z10]\n",
    "plt.plot(x,y1)\n",
    "plt.plot(x,y2)\n",
    "for a, b in zip(x,y1):\n",
    "    plt.text(a, b, str(b), ha='center', va='top')\n",
    "for a, b in zip(x,y2):\n",
    "    plt.text(a, b, str(b), ha='center', va='bottom')\n",
    "plt.legend(['Twitter', 'Twitter+Instagram'], loc='lower right')\n",
    "plt.title(\"Coverage of all geo-tagged locations\")\n",
    "plt.savefig('../Figures/Coverage.eps', format='eps',bbox_inches='tight',transparent=True)"
   ]
  }
 ],
 "metadata": {
  "kernelspec": {
   "display_name": "Python 3",
   "language": "python",
   "name": "python3"
  },
  "language_info": {
   "codemirror_mode": {
    "name": "ipython",
    "version": 3
   },
   "file_extension": ".py",
   "mimetype": "text/x-python",
   "name": "python",
   "nbconvert_exporter": "python",
   "pygments_lexer": "ipython3",
   "version": "3.5.2"
  }
 },
 "nbformat": 4,
 "nbformat_minor": 2
}
